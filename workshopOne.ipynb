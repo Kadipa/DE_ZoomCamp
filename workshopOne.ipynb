{
 "cells": [
  {
   "cell_type": "code",
   "execution_count": 3,
   "metadata": {},
   "outputs": [
    {
     "name": "stdout",
     "output_type": "stream",
     "text": [
      "Requirement already satisfied: dlt[duckdb] in /usr/local/python/3.10.13/lib/python3.10/site-packages (0.4.4)\n",
      "Requirement already satisfied: PyYAML>=5.4.1 in /home/codespace/.local/lib/python3.10/site-packages (from dlt[duckdb]) (6.0.1)\n",
      "Requirement already satisfied: SQLAlchemy>=1.4.0 in /usr/local/python/3.10.13/lib/python3.10/site-packages (from dlt[duckdb]) (2.0.27)\n",
      "Requirement already satisfied: astunparse>=1.6.3 in /usr/local/python/3.10.13/lib/python3.10/site-packages (from dlt[duckdb]) (1.6.3)\n",
      "Requirement already satisfied: click>=7.1 in /usr/local/python/3.10.13/lib/python3.10/site-packages (from dlt[duckdb]) (8.1.7)\n",
      "Requirement already satisfied: fsspec>=2022.4.0 in /home/codespace/.local/lib/python3.10/site-packages (from dlt[duckdb]) (2023.12.2)\n",
      "Requirement already satisfied: gitpython>=3.1.29 in /home/codespace/.local/lib/python3.10/site-packages (from dlt[duckdb]) (3.1.41)\n",
      "Requirement already satisfied: giturlparse>=0.10.0 in /usr/local/python/3.10.13/lib/python3.10/site-packages (from dlt[duckdb]) (0.12.0)\n",
      "Requirement already satisfied: hexbytes>=0.2.2 in /usr/local/python/3.10.13/lib/python3.10/site-packages (from dlt[duckdb]) (1.0.0)\n",
      "Requirement already satisfied: humanize>=4.4.0 in /usr/local/python/3.10.13/lib/python3.10/site-packages (from dlt[duckdb]) (4.9.0)\n",
      "Requirement already satisfied: jsonpath-ng>=1.5.3 in /usr/local/python/3.10.13/lib/python3.10/site-packages (from dlt[duckdb]) (1.6.1)\n",
      "Requirement already satisfied: makefun>=1.15.0 in /usr/local/python/3.10.13/lib/python3.10/site-packages (from dlt[duckdb]) (1.15.2)\n",
      "Requirement already satisfied: orjson<=3.9.10,>=3.6.7 in /usr/local/python/3.10.13/lib/python3.10/site-packages (from dlt[duckdb]) (3.9.10)\n",
      "Requirement already satisfied: packaging>=21.1 in /home/codespace/.local/lib/python3.10/site-packages (from dlt[duckdb]) (23.2)\n",
      "Requirement already satisfied: pathvalidate>=2.5.2 in /usr/local/python/3.10.13/lib/python3.10/site-packages (from dlt[duckdb]) (3.2.0)\n",
      "Requirement already satisfied: pendulum>=2.1.2 in /usr/local/python/3.10.13/lib/python3.10/site-packages (from dlt[duckdb]) (3.0.0)\n",
      "Requirement already satisfied: pytz>=2022.6 in /home/codespace/.local/lib/python3.10/site-packages (from dlt[duckdb]) (2023.3.post1)\n",
      "Requirement already satisfied: requests>=2.26.0 in /home/codespace/.local/lib/python3.10/site-packages (from dlt[duckdb]) (2.31.0)\n",
      "Requirement already satisfied: requirements-parser>=0.5.0 in /usr/local/python/3.10.13/lib/python3.10/site-packages (from dlt[duckdb]) (0.5.0)\n",
      "Requirement already satisfied: semver>=2.13.0 in /usr/local/python/3.10.13/lib/python3.10/site-packages (from dlt[duckdb]) (3.0.2)\n",
      "Requirement already satisfied: setuptools>=65.6.0 in /usr/local/python/3.10.13/lib/python3.10/site-packages (from dlt[duckdb]) (68.2.2)\n",
      "Requirement already satisfied: simplejson>=3.17.5 in /usr/local/python/3.10.13/lib/python3.10/site-packages (from dlt[duckdb]) (3.19.2)\n",
      "Requirement already satisfied: tenacity>=8.0.2 in /home/codespace/.local/lib/python3.10/site-packages (from dlt[duckdb]) (8.2.3)\n",
      "Requirement already satisfied: tomlkit>=0.11.3 in /usr/local/python/3.10.13/lib/python3.10/site-packages (from dlt[duckdb]) (0.12.3)\n",
      "Requirement already satisfied: typing-extensions>=4.0.0 in /home/codespace/.local/lib/python3.10/site-packages (from dlt[duckdb]) (4.9.0)\n",
      "Requirement already satisfied: tzdata>=2022.1 in /home/codespace/.local/lib/python3.10/site-packages (from dlt[duckdb]) (2023.4)\n",
      "Requirement already satisfied: duckdb<0.10.0,>=0.6.1 in /usr/local/python/3.10.13/lib/python3.10/site-packages (from dlt[duckdb]) (0.9.2)\n",
      "Requirement already satisfied: wheel<1.0,>=0.23.0 in /usr/local/python/3.10.13/lib/python3.10/site-packages (from astunparse>=1.6.3->dlt[duckdb]) (0.42.0)\n",
      "Requirement already satisfied: six<2.0,>=1.6.1 in /home/codespace/.local/lib/python3.10/site-packages (from astunparse>=1.6.3->dlt[duckdb]) (1.16.0)\n",
      "Requirement already satisfied: gitdb<5,>=4.0.1 in /home/codespace/.local/lib/python3.10/site-packages (from gitpython>=3.1.29->dlt[duckdb]) (4.0.11)\n",
      "Requirement already satisfied: ply in /usr/local/python/3.10.13/lib/python3.10/site-packages (from jsonpath-ng>=1.5.3->dlt[duckdb]) (3.11)\n",
      "Requirement already satisfied: python-dateutil>=2.6 in /home/codespace/.local/lib/python3.10/site-packages (from pendulum>=2.1.2->dlt[duckdb]) (2.8.2)\n",
      "Requirement already satisfied: time-machine>=2.6.0 in /usr/local/python/3.10.13/lib/python3.10/site-packages (from pendulum>=2.1.2->dlt[duckdb]) (2.13.0)\n",
      "Requirement already satisfied: charset-normalizer<4,>=2 in /home/codespace/.local/lib/python3.10/site-packages (from requests>=2.26.0->dlt[duckdb]) (3.3.2)\n",
      "Requirement already satisfied: idna<4,>=2.5 in /home/codespace/.local/lib/python3.10/site-packages (from requests>=2.26.0->dlt[duckdb]) (3.6)\n",
      "Requirement already satisfied: urllib3<3,>=1.21.1 in /usr/local/python/3.10.13/lib/python3.10/site-packages (from requests>=2.26.0->dlt[duckdb]) (2.0.7)\n",
      "Requirement already satisfied: certifi>=2017.4.17 in /home/codespace/.local/lib/python3.10/site-packages (from requests>=2.26.0->dlt[duckdb]) (2023.11.17)\n",
      "Requirement already satisfied: types-setuptools>=57.0.0 in /usr/local/python/3.10.13/lib/python3.10/site-packages (from requirements-parser>=0.5.0->dlt[duckdb]) (69.1.0.20240217)\n",
      "Requirement already satisfied: greenlet!=0.4.17 in /usr/local/python/3.10.13/lib/python3.10/site-packages (from SQLAlchemy>=1.4.0->dlt[duckdb]) (3.0.3)\n",
      "Requirement already satisfied: smmap<6,>=3.0.1 in /home/codespace/.local/lib/python3.10/site-packages (from gitdb<5,>=4.0.1->gitpython>=3.1.29->dlt[duckdb]) (5.0.1)\n",
      "\n",
      "\u001b[1m[\u001b[0m\u001b[34;49mnotice\u001b[0m\u001b[1;39;49m]\u001b[0m\u001b[39;49m A new release of pip is available: \u001b[0m\u001b[31;49m23.3.2\u001b[0m\u001b[39;49m -> \u001b[0m\u001b[32;49m24.0\u001b[0m\n",
      "\u001b[1m[\u001b[0m\u001b[34;49mnotice\u001b[0m\u001b[1;39;49m]\u001b[0m\u001b[39;49m To update, run: \u001b[0m\u001b[32;49mpython -m pip install --upgrade pip\u001b[0m\n"
     ]
    }
   ],
   "source": [
    "!pip install dlt[duckdb]"
   ]
  },
  {
   "cell_type": "code",
   "execution_count": 4,
   "id": "22891b5d",
   "metadata": {},
   "outputs": [
    {
     "name": "stdout",
     "output_type": "stream",
     "text": [
      "1.0\n",
      "1.4142135623730951\n",
      "1.7320508075688772\n",
      "2.0\n",
      "2.23606797749979\n"
     ]
    }
   ],
   "source": [
    "def square_root_generator(limit):\n",
    "    n = 1\n",
    "    while n <= limit:\n",
    "        yield n ** 0.5\n",
    "        n += 1\n",
    "\n",
    "# Example usage:\n",
    "limit = 5\n",
    "generator = square_root_generator(limit)\n",
    "\n",
    "for sqrt_value in generator:\n",
    "    print(sqrt_value)"
   ]
  },
  {
   "cell_type": "code",
   "execution_count": 5,
   "id": "9886d9a0",
   "metadata": {},
   "outputs": [
    {
     "name": "stdout",
     "output_type": "stream",
     "text": [
      "{'ID': 1, 'Name': 'Person_1', 'Age': 26, 'City': 'City_A'}\n",
      "{'ID': 2, 'Name': 'Person_2', 'Age': 27, 'City': 'City_A'}\n",
      "{'ID': 3, 'Name': 'Person_3', 'Age': 28, 'City': 'City_A'}\n",
      "{'ID': 4, 'Name': 'Person_4', 'Age': 29, 'City': 'City_A'}\n",
      "{'ID': 5, 'Name': 'Person_5', 'Age': 30, 'City': 'City_A'}\n",
      "{'ID': 3, 'Name': 'Person_3', 'Age': 33, 'City': 'City_B', 'Occupation': 'Job_3'}\n",
      "{'ID': 4, 'Name': 'Person_4', 'Age': 34, 'City': 'City_B', 'Occupation': 'Job_4'}\n",
      "{'ID': 5, 'Name': 'Person_5', 'Age': 35, 'City': 'City_B', 'Occupation': 'Job_5'}\n",
      "{'ID': 6, 'Name': 'Person_6', 'Age': 36, 'City': 'City_B', 'Occupation': 'Job_6'}\n",
      "{'ID': 7, 'Name': 'Person_7', 'Age': 37, 'City': 'City_B', 'Occupation': 'Job_7'}\n",
      "{'ID': 8, 'Name': 'Person_8', 'Age': 38, 'City': 'City_B', 'Occupation': 'Job_8'}\n"
     ]
    }
   ],
   "source": [
    "def people_1():\n",
    "    for i in range(1, 6):\n",
    "        yield {\"ID\": i, \"Name\": f\"Person_{i}\", \"Age\": 25 + i, \"City\": \"City_A\"}\n",
    "\n",
    "for person in people_1():\n",
    "    print(person)\n",
    "\n",
    "\n",
    "def people_2():\n",
    "    for i in range(3, 9):\n",
    "        yield {\"ID\": i, \"Name\": f\"Person_{i}\", \"Age\": 30 + i, \"City\": \"City_B\", \"Occupation\": f\"Job_{i}\"}\n",
    "\n",
    "\n",
    "for person in people_2():\n",
    "    print(person)"
   ]
  },
  {
   "cell_type": "code",
   "execution_count": 6,
   "id": "64caab35",
   "metadata": {},
   "outputs": [
    {
     "name": "stdout",
     "output_type": "stream",
     "text": [
      "Sum of the outputs: 8.382332347441762\n"
     ]
    }
   ],
   "source": [
    "\n",
    "\n",
    "# Reset the generator since it has already been iterated through once in the example usage\n",
    "generator = square_root_generator(limit)\n",
    "\n",
    "# Calculate the sum of the outputs\n",
    "sum_of_outputs = sum(generator)\n",
    "\n",
    "print(\"Sum of the outputs:\", sum_of_outputs)\n"
   ]
  },
  {
   "cell_type": "code",
   "execution_count": 7,
   "id": "03df037a",
   "metadata": {},
   "outputs": [
    {
     "name": "stdout",
     "output_type": "stream",
     "text": [
      "13th number yielded by the generator: 3.605551275463989\n"
     ]
    }
   ],
   "source": [
    "def square_root_generator(limit):\n",
    "    n = 1\n",
    "    while n <= limit:\n",
    "        yield n ** 0.5\n",
    "        n += 1\n",
    "\n",
    "# Example usage:\n",
    "limit = 13\n",
    "generator = square_root_generator(limit)\n",
    "\n",
    "# Iterate through the generator until we reach the 13th value\n",
    "for _ in range(13):\n",
    "    number = next(generator)\n",
    "\n",
    "print(\"13th number yielded by the generator:\", number)\n"
   ]
  },
  {
   "cell_type": "code",
   "execution_count": 8,
   "id": "fdc4fcc3",
   "metadata": {},
   "outputs": [
    {
     "name": "stdout",
     "output_type": "stream",
     "text": [
      "Sum of all ages of people: 353\n"
     ]
    }
   ],
   "source": [
    "def people_1():\n",
    "    for i in range(1, 6):\n",
    "        yield {\"ID\": i, \"Name\": f\"Person_{i}\", \"Age\": 25 + i, \"City\": \"City_A\"}\n",
    "\n",
    "def people_2():\n",
    "    for i in range(3, 9):\n",
    "        yield {\"ID\": i, \"Name\": f\"Person_{i}\", \"Age\": 30 + i, \"City\": \"City_B\", \"Occupation\": f\"Job_{i}\"}\n",
    "\n",
    "# Combined generator\n",
    "def combined_people():\n",
    "    for person in people_1():\n",
    "        yield person\n",
    "    for person in people_2():\n",
    "        yield person\n",
    "\n",
    "# Example usage:\n",
    "combined_generator = combined_people()\n",
    "\n",
    "# Calculate the sum of all ages\n",
    "sum_of_ages = sum(person[\"Age\"] for person in combined_generator)\n",
    "\n",
    "print(\"Sum of all ages of people:\", sum_of_ages)\n"
   ]
  },
  {
   "cell_type": "code",
   "execution_count": 9,
   "id": "f7004a04",
   "metadata": {},
   "outputs": [
    {
     "name": "stdout",
     "output_type": "stream",
     "text": [
      "Sum of ages of all people: 266\n"
     ]
    }
   ],
   "source": [
    "def people_1():\n",
    "    for i in range(1, 6):\n",
    "        yield {\"ID\": i, \"Name\": f\"Person_{i}\", \"Age\": 25 + i, \"City\": \"City_A\"}\n",
    "\n",
    "def people_2():\n",
    "    for i in range(3, 9):\n",
    "        yield {\"ID\": i, \"Name\": f\"Person_{i}\", \"Age\": 30 + i, \"City\": \"City_B\", \"Occupation\": f\"Job_{i}\"}\n",
    "\n",
    "# Merge the two generators using the ID column\n",
    "merged_people = {}\n",
    "for person in people_1():\n",
    "    merged_people[person[\"ID\"]] = person\n",
    "for person in people_2():\n",
    "    if person[\"ID\"] in merged_people:\n",
    "        merged_people[person[\"ID\"]].update(person)\n",
    "    else:\n",
    "        merged_people[person[\"ID\"]] = person\n",
    "\n",
    "# Calculate the sum of ages\n",
    "sum_of_ages = sum(person[\"Age\"] for person in merged_people.values())\n",
    "\n",
    "print(\"Sum of ages of all people:\", sum_of_ages)\n"
   ]
  }
 ],
 "metadata": {
  "kernelspec": {
   "display_name": "Python 3",
   "language": "python",
   "name": "python3"
  },
  "language_info": {
   "codemirror_mode": {
    "name": "ipython",
    "version": 3
   },
   "file_extension": ".py",
   "mimetype": "text/x-python",
   "name": "python",
   "nbconvert_exporter": "python",
   "pygments_lexer": "ipython3",
   "version": "3.10.13"
  }
 },
 "nbformat": 4,
 "nbformat_minor": 5
}
